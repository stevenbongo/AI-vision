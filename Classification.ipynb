{
  "nbformat": 4,
  "nbformat_minor": 0,
  "metadata": {
    "colab": {
      "name": "Classification.ipynb",
      "provenance": [],
      "toc_visible": true,
      "include_colab_link": true
    },
    "kernelspec": {
      "display_name": "Python 3",
      "language": "python",
      "name": "python3"
    },
    "language_info": {
      "codemirror_mode": {
        "name": "ipython",
        "version": 3
      },
      "file_extension": ".py",
      "mimetype": "text/x-python",
      "name": "python",
      "nbconvert_exporter": "python",
      "pygments_lexer": "ipython3",
      "version": "3.7.9"
    },
    "nav_menu": {
      "height": "252px",
      "width": "333px"
    },
    "toc": {
      "navigate_menu": true,
      "number_sections": true,
      "sideBar": true,
      "threshold": 6,
      "toc_cell": false,
      "toc_section_display": "block",
      "toc_window_display": false
    }
  },
  "cells": [
    {
      "cell_type": "markdown",
      "metadata": {
        "id": "view-in-github",
        "colab_type": "text"
      },
      "source": [
        "<a href=\"https://colab.research.google.com/github/stevenbongo/AI-vision/blob/main/Classification.ipynb\" target=\"_parent\"><img src=\"https://colab.research.google.com/assets/colab-badge.svg\" alt=\"Open In Colab\"/></a>"
      ]
    },
    {
      "cell_type": "markdown",
      "metadata": {
        "id": "bIx3Qr3cN9eG"
      },
      "source": [
        "# 분류(Classification)\n",
        "## 붓꽃(Iris) 품종 분류"
      ]
    },
    {
      "cell_type": "code",
      "metadata": {
        "id": "adbppmsJN9eK"
      },
      "source": [
        "import numpy as np\n",
        "import pandas as pd\n",
        "from sklearn import datasets\n",
        "from sklearn.model_selection import train_test_split\n",
        "from sklearn.metrics import accuracy_score"
      ],
      "execution_count": null,
      "outputs": []
    },
    {
      "cell_type": "markdown",
      "metadata": {
        "id": "HLU7fUBUN9eL"
      },
      "source": [
        "### skleran 데이터셋에서 iris 데이터셋 로딩"
      ]
    },
    {
      "cell_type": "code",
      "metadata": {
        "id": "G893zaxLN9eL"
      },
      "source": [
        "iris = datasets.load_iris()"
      ],
      "execution_count": null,
      "outputs": []
    },
    {
      "cell_type": "markdown",
      "metadata": {
        "id": "j-ympon4N9eL"
      },
      "source": [
        "###  iris 데이터셋의 key 값 확인"
      ]
    },
    {
      "cell_type": "code",
      "metadata": {
        "colab": {
          "base_uri": "https://localhost:8080/"
        },
        "id": "nYg4uYR-N9eM",
        "outputId": "8dcaff90-359e-49a1-b4e0-5b43b6f24412"
      },
      "source": [
        "print(iris.keys())"
      ],
      "execution_count": null,
      "outputs": [
        {
          "output_type": "stream",
          "name": "stdout",
          "text": [
            "dict_keys(['data', 'target', 'target_names', 'DESCR', 'feature_names', 'filename'])\n"
          ]
        }
      ]
    },
    {
      "cell_type": "markdown",
      "metadata": {
        "id": "2OA0cPstN9eM"
      },
      "source": [
        "### 데이터셋 Description 확인"
      ]
    },
    {
      "cell_type": "code",
      "metadata": {
        "colab": {
          "base_uri": "https://localhost:8080/"
        },
        "id": "mwbOVzGhN9eN",
        "scrolled": true,
        "outputId": "fc710961-d856-4cd8-aaa6-94fe8e5a26e0"
      },
      "source": [
        "print(iris['DESCR'])"
      ],
      "execution_count": null,
      "outputs": [
        {
          "output_type": "stream",
          "name": "stdout",
          "text": [
            ".. _iris_dataset:\n",
            "\n",
            "Iris plants dataset\n",
            "--------------------\n",
            "\n",
            "**Data Set Characteristics:**\n",
            "\n",
            "    :Number of Instances: 150 (50 in each of three classes)\n",
            "    :Number of Attributes: 4 numeric, predictive attributes and the class\n",
            "    :Attribute Information:\n",
            "        - sepal length in cm\n",
            "        - sepal width in cm\n",
            "        - petal length in cm\n",
            "        - petal width in cm\n",
            "        - class:\n",
            "                - Iris-Setosa\n",
            "                - Iris-Versicolour\n",
            "                - Iris-Virginica\n",
            "                \n",
            "    :Summary Statistics:\n",
            "\n",
            "    ============== ==== ==== ======= ===== ====================\n",
            "                    Min  Max   Mean    SD   Class Correlation\n",
            "    ============== ==== ==== ======= ===== ====================\n",
            "    sepal length:   4.3  7.9   5.84   0.83    0.7826\n",
            "    sepal width:    2.0  4.4   3.05   0.43   -0.4194\n",
            "    petal length:   1.0  6.9   3.76   1.76    0.9490  (high!)\n",
            "    petal width:    0.1  2.5   1.20   0.76    0.9565  (high!)\n",
            "    ============== ==== ==== ======= ===== ====================\n",
            "\n",
            "    :Missing Attribute Values: None\n",
            "    :Class Distribution: 33.3% for each of 3 classes.\n",
            "    :Creator: R.A. Fisher\n",
            "    :Donor: Michael Marshall (MARSHALL%PLU@io.arc.nasa.gov)\n",
            "    :Date: July, 1988\n",
            "\n",
            "The famous Iris database, first used by Sir R.A. Fisher. The dataset is taken\n",
            "from Fisher's paper. Note that it's the same as in R, but not as in the UCI\n",
            "Machine Learning Repository, which has two wrong data points.\n",
            "\n",
            "This is perhaps the best known database to be found in the\n",
            "pattern recognition literature.  Fisher's paper is a classic in the field and\n",
            "is referenced frequently to this day.  (See Duda & Hart, for example.)  The\n",
            "data set contains 3 classes of 50 instances each, where each class refers to a\n",
            "type of iris plant.  One class is linearly separable from the other 2; the\n",
            "latter are NOT linearly separable from each other.\n",
            "\n",
            ".. topic:: References\n",
            "\n",
            "   - Fisher, R.A. \"The use of multiple measurements in taxonomic problems\"\n",
            "     Annual Eugenics, 7, Part II, 179-188 (1936); also in \"Contributions to\n",
            "     Mathematical Statistics\" (John Wiley, NY, 1950).\n",
            "   - Duda, R.O., & Hart, P.E. (1973) Pattern Classification and Scene Analysis.\n",
            "     (Q327.D83) John Wiley & Sons.  ISBN 0-471-22361-1.  See page 218.\n",
            "   - Dasarathy, B.V. (1980) \"Nosing Around the Neighborhood: A New System\n",
            "     Structure and Classification Rule for Recognition in Partially Exposed\n",
            "     Environments\".  IEEE Transactions on Pattern Analysis and Machine\n",
            "     Intelligence, Vol. PAMI-2, No. 1, 67-71.\n",
            "   - Gates, G.W. (1972) \"The Reduced Nearest Neighbor Rule\".  IEEE Transactions\n",
            "     on Information Theory, May 1972, 431-433.\n",
            "   - See also: 1988 MLC Proceedings, 54-64.  Cheeseman et al\"s AUTOCLASS II\n",
            "     conceptual clustering system finds 3 classes in the data.\n",
            "   - Many, many more ...\n"
          ]
        }
      ]
    },
    {
      "cell_type": "markdown",
      "metadata": {
        "id": "9vGS2Hj5N9eN"
      },
      "source": [
        "### Train Test 데이터셋 분할"
      ]
    },
    {
      "cell_type": "code",
      "metadata": {
        "id": "zOcpYAzGN9eN"
      },
      "source": [
        "X_train, X_test, y_train, y_test = train_test_split(iris['data'], iris['target'], \n",
        "                                                    test_size=0.3, \n",
        "                                                    shuffle=True, \n",
        "                                                    stratify=iris.target, \n",
        "                                                    random_state=42)"
      ],
      "execution_count": null,
      "outputs": []
    },
    {
      "cell_type": "markdown",
      "metadata": {
        "id": "WdTk1r32N9eN"
      },
      "source": [
        "### 로지스틱 회귀"
      ]
    },
    {
      "cell_type": "code",
      "metadata": {
        "colab": {
          "base_uri": "https://localhost:8080/"
        },
        "id": "vrcg25qBN9eO",
        "outputId": "f862f2a1-3e89-4ba3-f5ab-372f5411680d"
      },
      "source": [
        "from sklearn.linear_model import LogisticRegression\n",
        "\n",
        "# 모델 학습\n",
        "lr = LogisticRegression()\n",
        "lr.fit(X_train, y_train)\n",
        "\n",
        "# 예측\n",
        "pred = lr.predict(X_test)\n",
        "print(f'예측값: {pred[:10]}')\n",
        "\n",
        "# 성능 평가\n",
        "accuracy = accuracy_score(y_test, pred) \n",
        "print(f'Mean accuracy score: {accuracy:.4}')\n",
        "\n",
        "# 확률값\n",
        "prob = lr.predict_proba(X_test)\n",
        "print(f'Probability: {prob[0]}')"
      ],
      "execution_count": null,
      "outputs": [
        {
          "output_type": "stream",
          "name": "stdout",
          "text": [
            "예측값: [2 1 1 1 2 2 1 1 0 2]\n",
            "Mean accuracy score: 0.9333\n",
            "Probability: [1.94606530e-06 3.22459680e-02 9.67752086e-01]\n"
          ]
        },
        {
          "output_type": "stream",
          "name": "stderr",
          "text": [
            "/usr/local/lib/python3.7/dist-packages/sklearn/linear_model/_logistic.py:940: ConvergenceWarning: lbfgs failed to converge (status=1):\n",
            "STOP: TOTAL NO. of ITERATIONS REACHED LIMIT.\n",
            "\n",
            "Increase the number of iterations (max_iter) or scale the data as shown in:\n",
            "    https://scikit-learn.org/stable/modules/preprocessing.html\n",
            "Please also refer to the documentation for alternative solver options:\n",
            "    https://scikit-learn.org/stable/modules/linear_model.html#logistic-regression\n",
            "  extra_warning_msg=_LOGISTIC_SOLVER_CONVERGENCE_MSG)\n"
          ]
        }
      ]
    },
    {
      "cell_type": "markdown",
      "metadata": {
        "id": "hMxA6QIkN9eO"
      },
      "source": [
        "### KNN(K-Nearest Neighbor, K-최근접 이웃)"
      ]
    },
    {
      "cell_type": "code",
      "metadata": {
        "colab": {
          "base_uri": "https://localhost:8080/"
        },
        "id": "1BeOo4pQN9eO",
        "outputId": "9187c99b-aeec-4b7d-c4a4-1087819c0d04"
      },
      "source": [
        "from sklearn.neighbors import KNeighborsClassifier\n",
        "\n",
        "# 모델 학습\n",
        "knn = KNeighborsClassifier(n_neighbors=7)\n",
        "knn.fit(X_train, y_train)\n",
        "\n",
        "# 예측\n",
        "pred = knn.predict(X_test)\n",
        "print(f'예측값: {pred[:10]}')\n",
        "\n",
        "# 성능 평가\n",
        "accuracy = accuracy_score(y_test, pred) \n",
        "print(f'Mean accuracy score: {accuracy:.4}')"
      ],
      "execution_count": null,
      "outputs": [
        {
          "output_type": "stream",
          "name": "stdout",
          "text": [
            "예측값: [2 1 2 1 2 2 1 1 0 2]\n",
            "Mean accuracy score: 0.9556\n"
          ]
        }
      ]
    },
    {
      "cell_type": "markdown",
      "metadata": {
        "id": "MqnZwFUVN9eO"
      },
      "source": [
        "### 의사결정트리(Decision Tree)"
      ]
    },
    {
      "cell_type": "code",
      "metadata": {
        "colab": {
          "base_uri": "https://localhost:8080/"
        },
        "id": "t9HgmxpdN9eP",
        "outputId": "164aeb6b-d411-4679-fdab-5035af088aef"
      },
      "source": [
        "from sklearn.tree import DecisionTreeClassifier\n",
        "\n",
        "dtc = DecisionTreeClassifier(max_depth=3, random_state=42)\n",
        "dtc.fit(X_train, y_train)"
      ],
      "execution_count": null,
      "outputs": [
        {
          "output_type": "execute_result",
          "data": {
            "text/plain": [
              "DecisionTreeClassifier(ccp_alpha=0.0, class_weight=None, criterion='gini',\n",
              "                       max_depth=3, max_features=None, max_leaf_nodes=None,\n",
              "                       min_impurity_decrease=0.0, min_impurity_split=None,\n",
              "                       min_samples_leaf=1, min_samples_split=2,\n",
              "                       min_weight_fraction_leaf=0.0, presort='deprecated',\n",
              "                       random_state=42, splitter='best')"
            ]
          },
          "metadata": {},
          "execution_count": 22
        }
      ]
    },
    {
      "cell_type": "code",
      "metadata": {
        "colab": {
          "base_uri": "https://localhost:8080/"
        },
        "id": "_csfkamXN9eP",
        "outputId": "1e750bc8-30d9-40d2-e019-7a764dc9f0d4"
      },
      "source": [
        "# 예측\n",
        "pred = dtc.predict(X_test)\n",
        "print(f'예측값: {pred[:10]}')"
      ],
      "execution_count": null,
      "outputs": [
        {
          "output_type": "stream",
          "name": "stdout",
          "text": [
            "예측값: [2 1 2 1 2 2 1 1 0 2]\n"
          ]
        }
      ]
    },
    {
      "cell_type": "code",
      "metadata": {
        "colab": {
          "base_uri": "https://localhost:8080/"
        },
        "id": "6w5UUdP7N9eP",
        "outputId": "fd4f3849-f903-448d-ee0b-d1ae6e77c8ed"
      },
      "source": [
        "# 성능 평가\n",
        "accuracy = accuracy_score(y_test, pred) \n",
        "print(f'Mean accuracy score: {accuracy:.4}')"
      ],
      "execution_count": null,
      "outputs": [
        {
          "output_type": "stream",
          "name": "stdout",
          "text": [
            "Mean accuracy score: 0.9778\n"
          ]
        }
      ]
    },
    {
      "cell_type": "code",
      "metadata": {
        "colab": {
          "base_uri": "https://localhost:8080/"
        },
        "id": "QOq9aFlFN9eP",
        "outputId": "e3e45669-d6d6-472a-d805-2a0dbde97bab"
      },
      "source": [
        "# 확률값\n",
        "prob = dtc.predict_proba(X_test)\n",
        "print(f'Probability: {prob[0]}')"
      ],
      "execution_count": null,
      "outputs": [
        {
          "output_type": "stream",
          "name": "stdout",
          "text": [
            "Probability: [0.         0.02941176 0.97058824]\n"
          ]
        }
      ]
    },
    {
      "cell_type": "markdown",
      "metadata": {
        "id": "9KkeiCwaN9eQ"
      },
      "source": [
        "#### 훈련된 의사결정트리 시각화"
      ]
    },
    {
      "cell_type": "code",
      "metadata": {
        "colab": {
          "base_uri": "https://localhost:8080/"
        },
        "id": "cCEu1uIGN9eQ",
        "outputId": "8437baa1-50a0-4f31-abcf-84e80fb653a4"
      },
      "source": [
        "!pip install graphviz"
      ],
      "execution_count": null,
      "outputs": [
        {
          "output_type": "stream",
          "name": "stdout",
          "text": [
            "Requirement already satisfied: graphviz in /usr/local/lib/python3.7/dist-packages (0.10.1)\n"
          ]
        }
      ]
    },
    {
      "cell_type": "code",
      "metadata": {
        "colab": {
          "base_uri": "https://localhost:8080/"
        },
        "id": "5od04SveN9eQ",
        "outputId": "160dd402-4c81-4c3d-a15f-4676776393a5"
      },
      "source": [
        "iris['feature_names']"
      ],
      "execution_count": null,
      "outputs": [
        {
          "output_type": "execute_result",
          "data": {
            "text/plain": [
              "['sepal length (cm)',\n",
              " 'sepal width (cm)',\n",
              " 'petal length (cm)',\n",
              " 'petal width (cm)']"
            ]
          },
          "metadata": {},
          "execution_count": 27
        }
      ]
    },
    {
      "cell_type": "code",
      "metadata": {
        "id": "FSvMzBwcN9eQ"
      },
      "source": [
        "from sklearn.tree import export_graphviz\n",
        "\n",
        "export_graphviz(\n",
        "        dtc,\n",
        "        out_file=\"iris_tree.dot\",\n",
        "        feature_names=iris['feature_names'],\n",
        "        class_names=iris.target_names,\n",
        "        rounded=True,\n",
        "        filled=True\n",
        "    )"
      ],
      "execution_count": null,
      "outputs": []
    },
    {
      "cell_type": "code",
      "metadata": {
        "colab": {
          "base_uri": "https://localhost:8080/",
          "height": 597
        },
        "id": "EW4MPS79N9eR",
        "scrolled": true,
        "outputId": "37caebbb-2c27-4952-ec1d-cacef5ce28d9"
      },
      "source": [
        "import graphviz\n",
        "\n",
        "with open(\"iris_tree.dot\") as f:\n",
        "    dot_graph = f.read()\n",
        "dot = graphviz.Source(dot_graph)\n",
        "dot.format = 'png'\n",
        "dot.render(filename='iris_tree', directory='./', cleanup=True)\n",
        "dot"
      ],
      "execution_count": null,
      "outputs": [
        {
          "output_type": "execute_result",
          "data": {
            "text/plain": [
              "<graphviz.files.Source at 0x7f65d60bcd50>"
            ],
            "image/svg+xml": "<?xml version=\"1.0\" encoding=\"UTF-8\" standalone=\"no\"?>\n<!DOCTYPE svg PUBLIC \"-//W3C//DTD SVG 1.1//EN\"\n \"http://www.w3.org/Graphics/SVG/1.1/DTD/svg11.dtd\">\n<!-- Generated by graphviz version 2.40.1 (20161225.0304)\n -->\n<!-- Title: Tree Pages: 1 -->\n<svg width=\"584pt\" height=\"433pt\"\n viewBox=\"0.00 0.00 583.50 433.00\" xmlns=\"http://www.w3.org/2000/svg\" xmlns:xlink=\"http://www.w3.org/1999/xlink\">\n<g id=\"graph0\" class=\"graph\" transform=\"scale(1 1) rotate(0) translate(4 429)\">\n<title>Tree</title>\n<polygon fill=\"#ffffff\" stroke=\"transparent\" points=\"-4,4 -4,-429 579.5,-429 579.5,4 -4,4\"/>\n<!-- 0 -->\n<g id=\"node1\" class=\"node\">\n<title>0</title>\n<path fill=\"#ffffff\" stroke=\"#000000\" d=\"M280,-425C280,-425 128,-425 128,-425 122,-425 116,-419 116,-413 116,-413 116,-354 116,-354 116,-348 122,-342 128,-342 128,-342 280,-342 280,-342 286,-342 292,-348 292,-354 292,-354 292,-413 292,-413 292,-419 286,-425 280,-425\"/>\n<text text-anchor=\"middle\" x=\"204\" y=\"-409.8\" font-family=\"Helvetica,sans-Serif\" font-size=\"14.00\" fill=\"#000000\">petal length (cm) &lt;= 2.45</text>\n<text text-anchor=\"middle\" x=\"204\" y=\"-394.8\" font-family=\"Helvetica,sans-Serif\" font-size=\"14.00\" fill=\"#000000\">gini = 0.667</text>\n<text text-anchor=\"middle\" x=\"204\" y=\"-379.8\" font-family=\"Helvetica,sans-Serif\" font-size=\"14.00\" fill=\"#000000\">samples = 105</text>\n<text text-anchor=\"middle\" x=\"204\" y=\"-364.8\" font-family=\"Helvetica,sans-Serif\" font-size=\"14.00\" fill=\"#000000\">value = [35, 35, 35]</text>\n<text text-anchor=\"middle\" x=\"204\" y=\"-349.8\" font-family=\"Helvetica,sans-Serif\" font-size=\"14.00\" fill=\"#000000\">class = setosa</text>\n</g>\n<!-- 1 -->\n<g id=\"node2\" class=\"node\">\n<title>1</title>\n<path fill=\"#e58139\" stroke=\"#000000\" d=\"M171.5,-298.5C171.5,-298.5 72.5,-298.5 72.5,-298.5 66.5,-298.5 60.5,-292.5 60.5,-286.5 60.5,-286.5 60.5,-242.5 60.5,-242.5 60.5,-236.5 66.5,-230.5 72.5,-230.5 72.5,-230.5 171.5,-230.5 171.5,-230.5 177.5,-230.5 183.5,-236.5 183.5,-242.5 183.5,-242.5 183.5,-286.5 183.5,-286.5 183.5,-292.5 177.5,-298.5 171.5,-298.5\"/>\n<text text-anchor=\"middle\" x=\"122\" y=\"-283.3\" font-family=\"Helvetica,sans-Serif\" font-size=\"14.00\" fill=\"#000000\">gini = 0.0</text>\n<text text-anchor=\"middle\" x=\"122\" y=\"-268.3\" font-family=\"Helvetica,sans-Serif\" font-size=\"14.00\" fill=\"#000000\">samples = 35</text>\n<text text-anchor=\"middle\" x=\"122\" y=\"-253.3\" font-family=\"Helvetica,sans-Serif\" font-size=\"14.00\" fill=\"#000000\">value = [35, 0, 0]</text>\n<text text-anchor=\"middle\" x=\"122\" y=\"-238.3\" font-family=\"Helvetica,sans-Serif\" font-size=\"14.00\" fill=\"#000000\">class = setosa</text>\n</g>\n<!-- 0&#45;&gt;1 -->\n<g id=\"edge1\" class=\"edge\">\n<title>0&#45;&gt;1</title>\n<path fill=\"none\" stroke=\"#000000\" d=\"M175.3204,-341.8796C167.5917,-330.6636 159.2191,-318.5131 151.4492,-307.2372\"/>\n<polygon fill=\"#000000\" stroke=\"#000000\" points=\"154.2018,-305.0634 145.6456,-298.8149 148.4377,-309.0353 154.2018,-305.0634\"/>\n<text text-anchor=\"middle\" x=\"141.1196\" y=\"-319.7018\" font-family=\"Helvetica,sans-Serif\" font-size=\"14.00\" fill=\"#000000\">True</text>\n</g>\n<!-- 2 -->\n<g id=\"node3\" class=\"node\">\n<title>2</title>\n<path fill=\"#ffffff\" stroke=\"#000000\" d=\"M360,-306C360,-306 214,-306 214,-306 208,-306 202,-300 202,-294 202,-294 202,-235 202,-235 202,-229 208,-223 214,-223 214,-223 360,-223 360,-223 366,-223 372,-229 372,-235 372,-235 372,-294 372,-294 372,-300 366,-306 360,-306\"/>\n<text text-anchor=\"middle\" x=\"287\" y=\"-290.8\" font-family=\"Helvetica,sans-Serif\" font-size=\"14.00\" fill=\"#000000\">petal width (cm) &lt;= 1.55</text>\n<text text-anchor=\"middle\" x=\"287\" y=\"-275.8\" font-family=\"Helvetica,sans-Serif\" font-size=\"14.00\" fill=\"#000000\">gini = 0.5</text>\n<text text-anchor=\"middle\" x=\"287\" y=\"-260.8\" font-family=\"Helvetica,sans-Serif\" font-size=\"14.00\" fill=\"#000000\">samples = 70</text>\n<text text-anchor=\"middle\" x=\"287\" y=\"-245.8\" font-family=\"Helvetica,sans-Serif\" font-size=\"14.00\" fill=\"#000000\">value = [0, 35, 35]</text>\n<text text-anchor=\"middle\" x=\"287\" y=\"-230.8\" font-family=\"Helvetica,sans-Serif\" font-size=\"14.00\" fill=\"#000000\">class = versicolor</text>\n</g>\n<!-- 0&#45;&gt;2 -->\n<g id=\"edge2\" class=\"edge\">\n<title>0&#45;&gt;2</title>\n<path fill=\"none\" stroke=\"#000000\" d=\"M233.0294,-341.8796C239.1855,-333.0534 245.7451,-323.6485 252.0936,-314.5466\"/>\n<polygon fill=\"#000000\" stroke=\"#000000\" points=\"254.9967,-316.5024 257.8467,-306.2981 249.2552,-312.4978 254.9967,-316.5024\"/>\n<text text-anchor=\"middle\" x=\"262.2331\" y=\"-327.2103\" font-family=\"Helvetica,sans-Serif\" font-size=\"14.00\" fill=\"#000000\">False</text>\n</g>\n<!-- 3 -->\n<g id=\"node4\" class=\"node\">\n<title>3</title>\n<path fill=\"#3fe685\" stroke=\"#000000\" d=\"M270,-187C270,-187 118,-187 118,-187 112,-187 106,-181 106,-175 106,-175 106,-116 106,-116 106,-110 112,-104 118,-104 118,-104 270,-104 270,-104 276,-104 282,-110 282,-116 282,-116 282,-175 282,-175 282,-181 276,-187 270,-187\"/>\n<text text-anchor=\"middle\" x=\"194\" y=\"-171.8\" font-family=\"Helvetica,sans-Serif\" font-size=\"14.00\" fill=\"#000000\">petal length (cm) &lt;= 4.95</text>\n<text text-anchor=\"middle\" x=\"194\" y=\"-156.8\" font-family=\"Helvetica,sans-Serif\" font-size=\"14.00\" fill=\"#000000\">gini = 0.057</text>\n<text text-anchor=\"middle\" x=\"194\" y=\"-141.8\" font-family=\"Helvetica,sans-Serif\" font-size=\"14.00\" fill=\"#000000\">samples = 34</text>\n<text text-anchor=\"middle\" x=\"194\" y=\"-126.8\" font-family=\"Helvetica,sans-Serif\" font-size=\"14.00\" fill=\"#000000\">value = [0, 33, 1]</text>\n<text text-anchor=\"middle\" x=\"194\" y=\"-111.8\" font-family=\"Helvetica,sans-Serif\" font-size=\"14.00\" fill=\"#000000\">class = versicolor</text>\n</g>\n<!-- 2&#45;&gt;3 -->\n<g id=\"edge3\" class=\"edge\">\n<title>2&#45;&gt;3</title>\n<path fill=\"none\" stroke=\"#000000\" d=\"M254.4731,-222.8796C247.5049,-213.9633 240.0753,-204.4565 232.8944,-195.268\"/>\n<polygon fill=\"#000000\" stroke=\"#000000\" points=\"235.5812,-193.0221 226.6657,-187.2981 230.0657,-197.3326 235.5812,-193.0221\"/>\n</g>\n<!-- 6 -->\n<g id=\"node7\" class=\"node\">\n<title>6</title>\n<path fill=\"#8845e7\" stroke=\"#000000\" d=\"M450,-187C450,-187 312,-187 312,-187 306,-187 300,-181 300,-175 300,-175 300,-116 300,-116 300,-110 306,-104 312,-104 312,-104 450,-104 450,-104 456,-104 462,-110 462,-116 462,-116 462,-175 462,-175 462,-181 456,-187 450,-187\"/>\n<text text-anchor=\"middle\" x=\"381\" y=\"-171.8\" font-family=\"Helvetica,sans-Serif\" font-size=\"14.00\" fill=\"#000000\">petal width (cm) &lt;= 1.7</text>\n<text text-anchor=\"middle\" x=\"381\" y=\"-156.8\" font-family=\"Helvetica,sans-Serif\" font-size=\"14.00\" fill=\"#000000\">gini = 0.105</text>\n<text text-anchor=\"middle\" x=\"381\" y=\"-141.8\" font-family=\"Helvetica,sans-Serif\" font-size=\"14.00\" fill=\"#000000\">samples = 36</text>\n<text text-anchor=\"middle\" x=\"381\" y=\"-126.8\" font-family=\"Helvetica,sans-Serif\" font-size=\"14.00\" fill=\"#000000\">value = [0, 2, 34]</text>\n<text text-anchor=\"middle\" x=\"381\" y=\"-111.8\" font-family=\"Helvetica,sans-Serif\" font-size=\"14.00\" fill=\"#000000\">class = virginica</text>\n</g>\n<!-- 2&#45;&gt;6 -->\n<g id=\"edge6\" class=\"edge\">\n<title>2&#45;&gt;6</title>\n<path fill=\"none\" stroke=\"#000000\" d=\"M319.8766,-222.8796C326.9197,-213.9633 334.4293,-204.4565 341.6874,-195.268\"/>\n<polygon fill=\"#000000\" stroke=\"#000000\" points=\"344.5309,-197.3147 347.983,-187.2981 339.0379,-192.9757 344.5309,-197.3147\"/>\n</g>\n<!-- 4 -->\n<g id=\"node5\" class=\"node\">\n<title>4</title>\n<path fill=\"#39e581\" stroke=\"#000000\" d=\"M116,-68C116,-68 12,-68 12,-68 6,-68 0,-62 0,-56 0,-56 0,-12 0,-12 0,-6 6,0 12,0 12,0 116,0 116,0 122,0 128,-6 128,-12 128,-12 128,-56 128,-56 128,-62 122,-68 116,-68\"/>\n<text text-anchor=\"middle\" x=\"64\" y=\"-52.8\" font-family=\"Helvetica,sans-Serif\" font-size=\"14.00\" fill=\"#000000\">gini = 0.0</text>\n<text text-anchor=\"middle\" x=\"64\" y=\"-37.8\" font-family=\"Helvetica,sans-Serif\" font-size=\"14.00\" fill=\"#000000\">samples = 33</text>\n<text text-anchor=\"middle\" x=\"64\" y=\"-22.8\" font-family=\"Helvetica,sans-Serif\" font-size=\"14.00\" fill=\"#000000\">value = [0, 33, 0]</text>\n<text text-anchor=\"middle\" x=\"64\" y=\"-7.8\" font-family=\"Helvetica,sans-Serif\" font-size=\"14.00\" fill=\"#000000\">class = versicolor</text>\n</g>\n<!-- 3&#45;&gt;4 -->\n<g id=\"edge4\" class=\"edge\">\n<title>3&#45;&gt;4</title>\n<path fill=\"none\" stroke=\"#000000\" d=\"M145.5928,-103.9815C134.5558,-94.5151 122.8347,-84.462 111.8223,-75.0168\"/>\n<polygon fill=\"#000000\" stroke=\"#000000\" points=\"113.8178,-72.1173 103.9487,-68.2637 109.2606,-77.4307 113.8178,-72.1173\"/>\n</g>\n<!-- 5 -->\n<g id=\"node6\" class=\"node\">\n<title>5</title>\n<path fill=\"#8139e5\" stroke=\"#000000\" d=\"M253.5,-68C253.5,-68 158.5,-68 158.5,-68 152.5,-68 146.5,-62 146.5,-56 146.5,-56 146.5,-12 146.5,-12 146.5,-6 152.5,0 158.5,0 158.5,0 253.5,0 253.5,0 259.5,0 265.5,-6 265.5,-12 265.5,-12 265.5,-56 265.5,-56 265.5,-62 259.5,-68 253.5,-68\"/>\n<text text-anchor=\"middle\" x=\"206\" y=\"-52.8\" font-family=\"Helvetica,sans-Serif\" font-size=\"14.00\" fill=\"#000000\">gini = 0.0</text>\n<text text-anchor=\"middle\" x=\"206\" y=\"-37.8\" font-family=\"Helvetica,sans-Serif\" font-size=\"14.00\" fill=\"#000000\">samples = 1</text>\n<text text-anchor=\"middle\" x=\"206\" y=\"-22.8\" font-family=\"Helvetica,sans-Serif\" font-size=\"14.00\" fill=\"#000000\">value = [0, 0, 1]</text>\n<text text-anchor=\"middle\" x=\"206\" y=\"-7.8\" font-family=\"Helvetica,sans-Serif\" font-size=\"14.00\" fill=\"#000000\">class = virginica</text>\n</g>\n<!-- 3&#45;&gt;5 -->\n<g id=\"edge5\" class=\"edge\">\n<title>3&#45;&gt;5</title>\n<path fill=\"none\" stroke=\"#000000\" d=\"M198.4684,-103.9815C199.3685,-95.618 200.3179,-86.7965 201.2279,-78.3409\"/>\n<polygon fill=\"#000000\" stroke=\"#000000\" points=\"204.7222,-78.5808 202.3124,-68.2637 197.7624,-77.8317 204.7222,-78.5808\"/>\n</g>\n<!-- 7 -->\n<g id=\"node8\" class=\"node\">\n<title>7</title>\n<path fill=\"#ffffff\" stroke=\"#000000\" d=\"M422,-68C422,-68 318,-68 318,-68 312,-68 306,-62 306,-56 306,-56 306,-12 306,-12 306,-6 312,0 318,0 318,0 422,0 422,0 428,0 434,-6 434,-12 434,-12 434,-56 434,-56 434,-62 428,-68 422,-68\"/>\n<text text-anchor=\"middle\" x=\"370\" y=\"-52.8\" font-family=\"Helvetica,sans-Serif\" font-size=\"14.00\" fill=\"#000000\">gini = 0.5</text>\n<text text-anchor=\"middle\" x=\"370\" y=\"-37.8\" font-family=\"Helvetica,sans-Serif\" font-size=\"14.00\" fill=\"#000000\">samples = 2</text>\n<text text-anchor=\"middle\" x=\"370\" y=\"-22.8\" font-family=\"Helvetica,sans-Serif\" font-size=\"14.00\" fill=\"#000000\">value = [0, 1, 1]</text>\n<text text-anchor=\"middle\" x=\"370\" y=\"-7.8\" font-family=\"Helvetica,sans-Serif\" font-size=\"14.00\" fill=\"#000000\">class = versicolor</text>\n</g>\n<!-- 6&#45;&gt;7 -->\n<g id=\"edge7\" class=\"edge\">\n<title>6&#45;&gt;7</title>\n<path fill=\"none\" stroke=\"#000000\" d=\"M376.904,-103.9815C376.0789,-95.618 375.2086,-86.7965 374.3744,-78.3409\"/>\n<polygon fill=\"#000000\" stroke=\"#000000\" points=\"377.8452,-77.8717 373.3803,-68.2637 370.8791,-78.559 377.8452,-77.8717\"/>\n</g>\n<!-- 8 -->\n<g id=\"node9\" class=\"node\">\n<title>8</title>\n<path fill=\"#853fe6\" stroke=\"#000000\" d=\"M563.5,-68C563.5,-68 464.5,-68 464.5,-68 458.5,-68 452.5,-62 452.5,-56 452.5,-56 452.5,-12 452.5,-12 452.5,-6 458.5,0 464.5,0 464.5,0 563.5,0 563.5,0 569.5,0 575.5,-6 575.5,-12 575.5,-12 575.5,-56 575.5,-56 575.5,-62 569.5,-68 563.5,-68\"/>\n<text text-anchor=\"middle\" x=\"514\" y=\"-52.8\" font-family=\"Helvetica,sans-Serif\" font-size=\"14.00\" fill=\"#000000\">gini = 0.057</text>\n<text text-anchor=\"middle\" x=\"514\" y=\"-37.8\" font-family=\"Helvetica,sans-Serif\" font-size=\"14.00\" fill=\"#000000\">samples = 34</text>\n<text text-anchor=\"middle\" x=\"514\" y=\"-22.8\" font-family=\"Helvetica,sans-Serif\" font-size=\"14.00\" fill=\"#000000\">value = [0, 1, 33]</text>\n<text text-anchor=\"middle\" x=\"514\" y=\"-7.8\" font-family=\"Helvetica,sans-Serif\" font-size=\"14.00\" fill=\"#000000\">class = virginica</text>\n</g>\n<!-- 6&#45;&gt;8 -->\n<g id=\"edge8\" class=\"edge\">\n<title>6&#45;&gt;8</title>\n<path fill=\"none\" stroke=\"#000000\" d=\"M430.5243,-103.9815C441.9257,-94.4232 454.0405,-84.2668 465.4021,-74.7419\"/>\n<polygon fill=\"#000000\" stroke=\"#000000\" points=\"467.7147,-77.3704 473.1294,-68.2637 463.2175,-72.006 467.7147,-77.3704\"/>\n</g>\n</g>\n</svg>\n"
          },
          "metadata": {},
          "execution_count": 29
        }
      ]
    },
    {
      "cell_type": "markdown",
      "metadata": {
        "id": "wAix3uJZN9eR"
      },
      "source": [
        "### 서포트 벡터 머신(SVM)"
      ]
    },
    {
      "cell_type": "code",
      "metadata": {
        "colab": {
          "base_uri": "https://localhost:8080/"
        },
        "id": "XK_F1BisN9eR",
        "outputId": "4e3d8b24-06db-47b9-992f-e9dc1ca2b4a2"
      },
      "source": [
        "from sklearn.svm import SVC\n",
        "\n",
        "# 모델 학습\n",
        "svc = SVC(kernel='rbf')\n",
        "svc.fit(X_train, y_train)\n",
        "\n",
        "# 예측\n",
        "pred = svc.predict(X_test)\n",
        "print(f'예측값: {pred[:10]}')\n",
        "\n",
        "# 성능 평가\n",
        "accuracy = accuracy_score(y_test, pred) \n",
        "print(f'Mean accuracy score: {accuracy:.4}')"
      ],
      "execution_count": null,
      "outputs": [
        {
          "output_type": "stream",
          "name": "stdout",
          "text": [
            "예측값: [2 1 2 1 2 2 1 1 0 2]\n",
            "Mean accuracy score: 0.9556\n"
          ]
        }
      ]
    },
    {
      "cell_type": "markdown",
      "metadata": {
        "id": "homCfgnsN9eR"
      },
      "source": [
        "# 앙상블 모델"
      ]
    },
    {
      "cell_type": "markdown",
      "metadata": {
        "id": "--qrfFWJN9eR"
      },
      "source": [
        "### 보팅(Voting)"
      ]
    },
    {
      "cell_type": "code",
      "metadata": {
        "colab": {
          "base_uri": "https://localhost:8080/"
        },
        "id": "6ZkWnCdVN9eS",
        "outputId": "710dfa63-23b9-4b79-9100-31d3117e6cac"
      },
      "source": [
        "from sklearn.ensemble import VotingClassifier\n",
        "\n",
        "# 모델 학습\n",
        "hvc = VotingClassifier(estimators=[('KNN', knn), ('DT', dtc), ('SVM', svc)], \n",
        "                       voting='hard')\n",
        "hvc.fit(X_train, y_train)\n",
        "\n",
        "# 예측\n",
        "pred = hvc.predict(X_test)\n",
        "print('예측값: ', pred[:10])\n",
        "\n",
        "# 모델 성능 평가\n",
        "accuracy = accuracy_score(y_test, pred) \n",
        "print(f'Mean accuracy score: {accuracy:.4}')"
      ],
      "execution_count": null,
      "outputs": [
        {
          "output_type": "stream",
          "name": "stdout",
          "text": [
            "예측값:  [2 1 2 1 2 2 1 1 0 2]\n",
            "Mean accuracy score: 0.9556\n"
          ]
        }
      ]
    },
    {
      "cell_type": "markdown",
      "metadata": {
        "id": "XJfTKkw-N9eS"
      },
      "source": [
        "### 랜덤포레스트(Random Forest, 배깅)"
      ]
    },
    {
      "cell_type": "code",
      "metadata": {
        "colab": {
          "base_uri": "https://localhost:8080/"
        },
        "id": "8yGmvHlQN9eS",
        "scrolled": true,
        "outputId": "74ea315f-3a88-4855-9138-d1593fdeeb90"
      },
      "source": [
        "from sklearn.ensemble import RandomForestClassifier\n",
        "\n",
        "# 모델 학습\n",
        "rfc = RandomForestClassifier(n_estimators=50, max_depth=3, random_state=42)\n",
        "rfc.fit(X_train, y_train)\n",
        "\n",
        "# 예측\n",
        "pred = rfc.predict(X_test)\n",
        "print('예측값: ', pred[:10])\n",
        "\n",
        "# 모델 성능 평가\n",
        "accuracy = accuracy_score(y_test, pred)\n",
        "print(\"Accuracy: {:.4f}\".format(accuracy))"
      ],
      "execution_count": null,
      "outputs": [
        {
          "output_type": "stream",
          "name": "stdout",
          "text": [
            "예측값:  [2 1 1 1 2 2 1 1 0 2]\n",
            "Accuracy: 0.8889\n"
          ]
        }
      ]
    },
    {
      "cell_type": "markdown",
      "metadata": {
        "id": "S8qvumNAN9eS"
      },
      "source": [
        "### XGBoost(Extreme Gradient Boosting,부스팅)"
      ]
    },
    {
      "cell_type": "code",
      "metadata": {
        "colab": {
          "base_uri": "https://localhost:8080/"
        },
        "id": "eTcIyhNHN9eS",
        "outputId": "3a7b14d1-cb8c-4fd1-f07d-e44173fc42a5"
      },
      "source": [
        "!pip install xgboost"
      ],
      "execution_count": null,
      "outputs": [
        {
          "name": "stdout",
          "output_type": "stream",
          "text": [
            "Requirement already satisfied: xgboost in c:\\users\\danny\\.conda\\envs\\tfenv\\lib\\site-packages (1.3.3)\n",
            "Requirement already satisfied: numpy in c:\\users\\danny\\.conda\\envs\\tfenv\\lib\\site-packages (from xgboost) (1.19.2)\n",
            "Requirement already satisfied: scipy in c:\\users\\danny\\.conda\\envs\\tfenv\\lib\\site-packages (from xgboost) (1.5.2)\n"
          ]
        }
      ]
    },
    {
      "cell_type": "code",
      "metadata": {
        "colab": {
          "base_uri": "https://localhost:8080/"
        },
        "id": "7Ivd5BOkN9eT",
        "outputId": "efbeb7fa-6a08-4a60-ec05-59b67b60e69d"
      },
      "source": [
        "from xgboost import XGBClassifier\n",
        "\n",
        "# 모델 학습 \n",
        "xgbc = XGBClassifier(n_estimators=50, max_depth=3, random_state=42)\n",
        "xgbc.fit(X_train, y_train)\n",
        "\n",
        "# 예측\n",
        "pred = xgbc.predict(X_test)\n",
        "print('예측값: ', pred[:10])\n",
        "\n",
        "# 모델 성능 평가\n",
        "accuracy = accuracy_score(y_test, pred) \n",
        "print(f'Mean accuracy score: {accuracy:.4}')"
      ],
      "execution_count": null,
      "outputs": [
        {
          "output_type": "stream",
          "name": "stdout",
          "text": [
            "예측값:  [2 1 2 1 2 2 1 1 0 2]\n",
            "Mean accuracy score: 0.9333\n"
          ]
        }
      ]
    },
    {
      "cell_type": "markdown",
      "metadata": {
        "id": "6aZS5a4f9Q3K"
      },
      "source": [
        "### Light GBM(Gradient Boosting Machine,부스팅)"
      ]
    },
    {
      "cell_type": "code",
      "metadata": {
        "id": "UBMspeVm9Q3K",
        "outputId": "b40d233f-2168-4568-b1bc-9d77a8edf578"
      },
      "source": [
        "from lightgbm import LGBMClassifier\n",
        "from sklearn.metrics import confusion_matrix \n",
        "\n",
        "# 모델 학습 \n",
        "lgbc = LGBMClassifier(n_estimators=50, max_depth=3, random_state=42)\n",
        "lgbc.fit(X_train, y_train)\n",
        "\n",
        "# 예측\n",
        "y_pred = lgbc.predict(X_test)\n",
        "print('예측값: ', pred[:10])\n",
        "\n",
        "# 모델 성능 평가\n",
        "accuracy = accuracy_score(y_test, pred) \n",
        "print(f'Mean accuracy score: {accuracy:.4}')\n",
        "print(confusion_matrix(y_test, y_pred))"
      ],
      "execution_count": null,
      "outputs": [
        {
          "name": "stdout",
          "output_type": "stream",
          "text": [
            "예측값:  [2 1 2 1 2 2 1 1 0 2]\n",
            "Mean accuracy score: 0.9333\n",
            "[[15  0  0]\n",
            " [ 0 14  1]\n",
            " [ 0  5 10]]\n"
          ]
        }
      ]
    },
    {
      "cell_type": "code",
      "metadata": {
        "id": "TeKMq9zC9Q3L"
      },
      "source": [
        ""
      ],
      "execution_count": null,
      "outputs": []
    }
  ]
}